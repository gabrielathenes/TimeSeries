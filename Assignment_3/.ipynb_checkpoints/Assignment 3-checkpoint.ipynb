{
 "cells": [
  {
   "cell_type": "markdown",
   "id": "afb72815-74ef-4b27-b413-26c1c4f20652",
   "metadata": {
    "tags": []
   },
   "source": [
    "# Setup"
   ]
  },
  {
   "cell_type": "markdown",
   "id": "77573173-e7b9-46b4-ae78-a0f9b0d87351",
   "metadata": {},
   "source": [
    "**Imports**"
   ]
  },
  {
   "cell_type": "code",
   "execution_count": null,
   "id": "263236fe-6d00-45aa-80f1-e36765758e9a",
   "metadata": {},
   "outputs": [],
   "source": [
    "import numpy as np\n",
    "import matplotlib.pyplot as plt\n",
    "import ruptures as rpt"
   ]
  },
  {
   "cell_type": "markdown",
   "id": "02ce9a17-6c03-4343-b2d4-c5dc94eac178",
   "metadata": {},
   "source": [
    "**Utility functions**"
   ]
  },
  {
   "cell_type": "code",
   "execution_count": null,
   "id": "53469a53-92a0-403d-9bb4-544cd0e7a1db",
   "metadata": {},
   "outputs": [],
   "source": [
    "def fig_ax(figsize=(15, 5)):\n",
    "    fig, ax = plt.subplots(figsize=figsize)\n",
    "    ax.margins(x=0)\n",
    "    return fig, ax"
   ]
  },
  {
   "cell_type": "markdown",
   "id": "fd93f734-c888-44e7-beb1-54de8c3f19f2",
   "metadata": {},
   "source": [
    "# Question 2"
   ]
  },
  {
   "cell_type": "code",
   "execution_count": null,
   "id": "d329e5e9-f877-440d-a353-891f6626290f",
   "metadata": {},
   "outputs": [],
   "source": [
    "# to detect mean shift, use the faster dynamic programming algorithm in rpt.KernelCPD(kernel=\"linear\")\n",
    "\n",
    "algo = rpt.KernelCPD(kernel=\"linear\").fit(signal)\n",
    "\n",
    "algo.predict(n_bkps=10)  # detects 10 change-points\n",
    "algo.predict(pen=10)  # minimizes the linearly penalized sum of costs (with beta=10)\n"
   ]
  },
  {
   "cell_type": "markdown",
   "id": "67e7aa7d-86a0-4230-9587-ff6286db6b01",
   "metadata": {},
   "source": [
    "# Question 3"
   ]
  },
  {
   "cell_type": "code",
   "execution_count": null,
   "id": "05ba380a-a040-423e-99e8-f9b6d4d98a9e",
   "metadata": {},
   "outputs": [],
   "source": []
  },
  {
   "cell_type": "markdown",
   "id": "3da71dd7-46ec-4db4-8cac-284f0fecf044",
   "metadata": {},
   "source": [
    "# Question 4"
   ]
  },
  {
   "cell_type": "code",
   "execution_count": null,
   "id": "3708b7c5-e937-41cd-bc1b-ac2f7f71e192",
   "metadata": {},
   "outputs": [],
   "source": []
  },
  {
   "cell_type": "markdown",
   "id": "db9c9e0f-c32c-48da-86f8-944fbc4a0806",
   "metadata": {},
   "source": [
    "# Question 5"
   ]
  },
  {
   "cell_type": "code",
   "execution_count": null,
   "id": "63bfc74d-7072-40a2-be7d-7c402f9b66c9",
   "metadata": {},
   "outputs": [],
   "source": []
  },
  {
   "cell_type": "markdown",
   "id": "2cbd2c7d-32dd-4843-bed5-8f4e0afeb30c",
   "metadata": {},
   "source": [
    "# Question 6"
   ]
  },
  {
   "cell_type": "code",
   "execution_count": null,
   "id": "d1fba90b-33cf-4e2b-b96b-7683626b6eb0",
   "metadata": {},
   "outputs": [],
   "source": []
  },
  {
   "cell_type": "markdown",
   "id": "2a1a9fb4-e354-4d20-9095-39e158c8d896",
   "metadata": {},
   "source": [
    "# Question 7"
   ]
  },
  {
   "cell_type": "code",
   "execution_count": null,
   "id": "8a4c0acc-3d7f-477d-8ba3-b807ba64a47c",
   "metadata": {},
   "outputs": [],
   "source": [
    "y = np.random.normal(size=600)  # dummy signal\n",
    "x = np.arange(y.shape[0])\n",
    "class_array = np.random.binomial(n=2, p=0.5, size=y.shape[0])  # dummy classes (0, 1, 2)\n",
    "\n",
    "\n",
    "colors = [\"b\", \"m\", \"r\"]  # three colours=three classes\n",
    "color_array = np.take(colors, class_array)\n",
    "fig, ax = fig_ax()\n",
    "ax.plot(x, y, alpha=0.5)\n",
    "ax.scatter(x, y, c=color_array)\n",
    "\n",
    "# do not forget to explain the colours in the reportc"
   ]
  },
  {
   "cell_type": "markdown",
   "id": "2f6e3814-a986-439f-98da-7a53011916f2",
   "metadata": {},
   "source": [
    "# Question 8"
   ]
  },
  {
   "cell_type": "code",
   "execution_count": null,
   "id": "90d92cc5-136d-4757-848d-f7a898e58497",
   "metadata": {},
   "outputs": [],
   "source": []
  }
 ],
 "metadata": {
  "kernelspec": {
   "display_name": "Python 3 (ipykernel)",
   "language": "python",
   "name": "python3"
  },
  "language_info": {
   "codemirror_mode": {
    "name": "ipython",
    "version": 3
   },
   "file_extension": ".py",
   "mimetype": "text/x-python",
   "name": "python",
   "nbconvert_exporter": "python",
   "pygments_lexer": "ipython3",
   "version": "3.8.12"
  },
  "toc-autonumbering": true
 },
 "nbformat": 4,
 "nbformat_minor": 5
}
